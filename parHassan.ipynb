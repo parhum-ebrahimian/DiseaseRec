{
  "nbformat": 4,
  "nbformat_minor": 0,
  "metadata": {
    "colab": {
      "name": "parHassan.ipynb",
      "provenance": [],
      "collapsed_sections": []
    },
    "kernelspec": {
      "name": "python3",
      "display_name": "Python 3"
    },
    "language_info": {
      "name": "python"
    }
  },
  "cells": [
    {
      "cell_type": "code",
      "metadata": {
        "id": "Y8W9fZiALFmw"
      },
      "source": [
        "import numpy as np \n",
        "import pandas as pd\n",
        "df = pd.read_csv('BigData.csv')"
      ],
      "execution_count": 2,
      "outputs": []
    },
    {
      "cell_type": "code",
      "metadata": {
        "id": "RzXRouPeLSuy",
        "colab": {
          "base_uri": "https://localhost:8080/"
        },
        "outputId": "a5cc15dc-b7c9-4fde-84b8-49580c9cea68"
      },
      "source": [
        "df.info()"
      ],
      "execution_count": 3,
      "outputs": [
        {
          "output_type": "stream",
          "name": "stdout",
          "text": [
            "<class 'pandas.core.frame.DataFrame'>\n",
            "RangeIndex: 4920 entries, 0 to 4919\n",
            "Data columns (total 18 columns):\n",
            " #   Column      Non-Null Count  Dtype \n",
            "---  ------      --------------  ----- \n",
            " 0   Disease     4920 non-null   object\n",
            " 1   Symptom_1   4920 non-null   object\n",
            " 2   Symptom_2   4920 non-null   object\n",
            " 3   Symptom_3   4920 non-null   object\n",
            " 4   Symptom_4   4572 non-null   object\n",
            " 5   Symptom_5   3714 non-null   object\n",
            " 6   Symptom_6   2934 non-null   object\n",
            " 7   Symptom_7   2268 non-null   object\n",
            " 8   Symptom_8   1944 non-null   object\n",
            " 9   Symptom_9   1692 non-null   object\n",
            " 10  Symptom_10  1512 non-null   object\n",
            " 11  Symptom_11  1194 non-null   object\n",
            " 12  Symptom_12  744 non-null    object\n",
            " 13  Symptom_13  504 non-null    object\n",
            " 14  Symptom_14  306 non-null    object\n",
            " 15  Symptom_15  240 non-null    object\n",
            " 16  Symptom_16  192 non-null    object\n",
            " 17  Symptom_17  72 non-null     object\n",
            "dtypes: object(18)\n",
            "memory usage: 692.0+ KB\n"
          ]
        }
      ]
    },
    {
      "cell_type": "code",
      "metadata": {
        "id": "jWF5770Y7axJ"
      },
      "source": [
        "#df.iloc[row_start:row_end , col_start, col_end]\n",
        "#dataframe slicing gets everything besides D\n",
        "df_symp = df.iloc[:,1:]\n",
        "\n",
        "# one shot encode the symptoms\n",
        "df_encode = pd.get_dummies(df_symp)\n",
        "df_encode.fillna(0,inplace=True)\n",
        "df_encode['class'] = df['Disease']\n",
        "df_encode.set_index('class',inplace=True)"
      ],
      "execution_count": 4,
      "outputs": []
    },
    {
      "cell_type": "code",
      "metadata": {
        "id": "j5t5jBOcLwpA",
        "colab": {
          "base_uri": "https://localhost:8080/"
        },
        "outputId": "af30bc81-79b3-40e6-f6b2-b6f972cb0a7a"
      },
      "source": [
        "# X Features and y classes\n",
        "X = df_encode.values\n",
        "y = df_encode.index\n",
        "\n",
        "from sklearn.metrics import accuracy_score\n",
        "from sklearn.naive_bayes import GaussianNB\n",
        "from sklearn.model_selection import train_test_split\n",
        "X_train, X_test, y_train, y_true = train_test_split(X, y, test_size=0.97, random_state=42)\n",
        "\n",
        "model = GaussianNB()\n",
        "model.fit(X_train, y_train)\n",
        "y_pred = model.predict(X_test)\n",
        "\n",
        "#print(y_pred)\n",
        "#print(y_true)\n",
        "\n",
        "s  = accuracy_score(y_true, y_pred).round(3)\n",
        "s"
      ],
      "execution_count": 5,
      "outputs": [
        {
          "output_type": "execute_result",
          "data": {
            "text/plain": [
              "0.863"
            ]
          },
          "metadata": {},
          "execution_count": 5
        }
      ]
    },
    {
      "cell_type": "code",
      "metadata": {
        "id": "dgF1WyaHv6yp"
      },
      "source": [
        "# df_encode.groupby(by='class').describe() #display of \n",
        "#                                           diseases and their \n",
        "#                                           possible symptoms "
      ],
      "execution_count": 6,
      "outputs": []
    }
  ]
}